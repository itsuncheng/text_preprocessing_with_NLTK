{
 "cells": [
  {
   "cell_type": "code",
   "execution_count": 1,
   "metadata": {},
   "outputs": [],
   "source": [
    "import nltk\n",
    "import string\n",
    "from nltk import word_tokenize\n",
    "from nltk.corpus import stopwords\n",
    "from nltk.stem.porter import PorterStemmer\n",
    "from nltk import pos_tag"
   ]
  },
  {
   "cell_type": "code",
   "execution_count": 2,
   "metadata": {},
   "outputs": [],
   "source": [
    "def preprocess(filename):\n",
    "    f = open(filename,'r')\n",
    "    text = f.read()\n",
    "    text = text.lower()\n",
    "    \n",
    "    text_p = \"\".join([char for char in text if char not in string.punctuation])\n",
    "    \n",
    "    words = word_tokenize(text_p)\n",
    "    \n",
    "    stop_words = stopwords.words('english')\n",
    "    filtered_words = [word for word in words if word not in stop_words]\n",
    "    \n",
    "    porter = PorterStemmer()\n",
    "    stemmed = [porter.stem(word) for word in filtered_words]\n",
    "    \n",
    "    pos = pos_tag(filtered_words)\n",
    "    \n",
    "    return words, filtered_words, stemmed, pos"
   ]
  },
  {
   "cell_type": "code",
   "execution_count": 3,
   "metadata": {},
   "outputs": [],
   "source": [
    "words, filtered_words, stemmed, pos = preprocess('pride_and_prejudice.txt')"
   ]
  },
  {
   "cell_type": "code",
   "execution_count": 4,
   "metadata": {},
   "outputs": [
    {
     "name": "stdout",
     "output_type": "stream",
     "text": [
      "Words: ['chapter', '1', 'it', 'is', 'a', 'truth', 'universally', 'acknowledged', 'that', 'a', 'single', 'man', 'in', 'possession', 'of', 'a', 'good', 'fortune', 'must', 'be', 'in', 'want', 'of', 'a', 'wife', 'however', 'little', 'known', 'the', 'feelings', 'or', 'views', 'of', 'such', 'a', 'man', 'may', 'be', 'on', 'his', 'first', 'entering', 'a', 'neighbourhood', 'this', 'truth', 'is', 'so', 'well', 'fixed']\n"
     ]
    }
   ],
   "source": [
    "print('Words:', words[:50])"
   ]
  },
  {
   "cell_type": "code",
   "execution_count": 5,
   "metadata": {},
   "outputs": [
    {
     "name": "stdout",
     "output_type": "stream",
     "text": [
      "Filtered words: ['chapter', '1', 'truth', 'universally', 'acknowledged', 'single', 'man', 'possession', 'good', 'fortune', 'must', 'want', 'wife', 'however', 'little', 'known', 'feelings', 'views', 'man', 'may', 'first', 'entering', 'neighbourhood', 'truth', 'well', 'fixed', 'minds', 'surrounding', 'families', 'considered', 'rightful', 'property', 'one', 'daughters', '“', 'dear', 'mr', 'bennet', '”', 'said', 'lady', 'one', 'day', '“', 'heard', 'netherfield', 'park', 'let', 'last', '”']\n"
     ]
    }
   ],
   "source": [
    "print('Filtered words:', filtered_words[:50])"
   ]
  },
  {
   "cell_type": "code",
   "execution_count": 6,
   "metadata": {},
   "outputs": [
    {
     "name": "stdout",
     "output_type": "stream",
     "text": [
      "Stemmed words: ['chapter', '1', 'truth', 'univers', 'acknowledg', 'singl', 'man', 'possess', 'good', 'fortun', 'must', 'want', 'wife', 'howev', 'littl', 'known', 'feel', 'view', 'man', 'may', 'first', 'enter', 'neighbourhood', 'truth', 'well', 'fix', 'mind', 'surround', 'famili', 'consid', 'right', 'properti', 'one', 'daughter', '“', 'dear', 'mr', 'bennet', '”', 'said', 'ladi', 'one', 'day', '“', 'heard', 'netherfield', 'park', 'let', 'last', '”']\n"
     ]
    }
   ],
   "source": [
    "print('Stemmed words:', stemmed[:50])"
   ]
  },
  {
   "cell_type": "code",
   "execution_count": 7,
   "metadata": {},
   "outputs": [
    {
     "name": "stdout",
     "output_type": "stream",
     "text": [
      "Part of Speech: [('chapter', 'NN'), ('1', 'CD'), ('truth', 'NN'), ('universally', 'RB'), ('acknowledged', 'VBD'), ('single', 'JJ'), ('man', 'NN'), ('possession', 'NN'), ('good', 'JJ'), ('fortune', 'NN'), ('must', 'MD'), ('want', 'VB'), ('wife', 'NN'), ('however', 'RB'), ('little', 'JJ'), ('known', 'JJ'), ('feelings', 'NNS'), ('views', 'NNS'), ('man', 'NN'), ('may', 'MD'), ('first', 'VB'), ('entering', 'VBG'), ('neighbourhood', 'NN'), ('truth', 'NN'), ('well', 'RB'), ('fixed', 'VBN'), ('minds', 'NNS'), ('surrounding', 'VBG'), ('families', 'NNS'), ('considered', 'VBN'), ('rightful', 'JJ'), ('property', 'NN'), ('one', 'CD'), ('daughters', 'NNS'), ('“', 'VBP'), ('dear', 'JJ'), ('mr', 'JJ'), ('bennet', 'NN'), ('”', 'NN'), ('said', 'VBD'), ('lady', 'JJ'), ('one', 'CD'), ('day', 'NN'), ('“', 'NNP'), ('heard', 'VBD'), ('netherfield', 'DT'), ('park', 'NN'), ('let', 'VBD'), ('last', 'JJ'), ('”', 'JJ')]\n"
     ]
    }
   ],
   "source": [
    "print('Part of Speech:', pos[:50])"
   ]
  }
 ],
 "metadata": {
  "kernelspec": {
   "display_name": "Python 3",
   "language": "python",
   "name": "python3"
  },
  "language_info": {
   "codemirror_mode": {
    "name": "ipython",
    "version": 3
   },
   "file_extension": ".py",
   "mimetype": "text/x-python",
   "name": "python",
   "nbconvert_exporter": "python",
   "pygments_lexer": "ipython3",
   "version": "3.7.1"
  }
 },
 "nbformat": 4,
 "nbformat_minor": 2
}
